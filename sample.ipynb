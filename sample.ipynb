{
 "cells": [
  {
   "metadata": {},
   "cell_type": "markdown",
   "source": "# Calculs de rejet de cheminee",
   "id": "8a77807f92f26ee"
  },
  {
   "metadata": {
    "ExecuteTime": {
     "end_time": "2025-09-26T13:20:41.080579Z",
     "start_time": "2025-09-26T13:20:40.866319Z"
    }
   },
   "cell_type": "code",
   "source": [
    "import pint\n",
    "ureg = pint.UnitRegistry()\n",
    "Q_ = ureg.Quantity\n",
    "\n",
    "from IPython.display import display, Markdown, Math\n",
    "import math\n",
    "\n",
    "\n",
    "def show_latex(latex_code):\n",
    "    from IPython.display import display, Math\n",
    "    display(Math(latex_code))\n",
    "    \n",
    "def show_value(value, label=None):\n",
    "    # check if value is a pint quantity\n",
    "    if isinstance(value, ureg.Quantity):\n",
    "        # use scientific notation\n",
    "        value = value.to_base_units()\n",
    "        # if a temperature use Celsius\n",
    "        if value.units == ureg.kelvin:\n",
    "            value = value.to('degC')\n",
    "        if abs(value.magnitude) < 1e-2 or abs(value.magnitude) >= 1e4:\n",
    "            value_str = f'{value:.2e}'\n",
    "        else:\n",
    "            value_str = f'{value:.3f}'\n",
    "    else:\n",
    "        value_str = str(value)\n",
    "    if label:\n",
    "        display(Markdown(f'**{label}**: {value_str}'))\n",
    "    else:\n",
    "        display(Markdown(f'**Value**: {value_str}'))\n",
    "\n"
   ],
   "id": "fbc121e30a2defb3",
   "outputs": [],
   "execution_count": 141
  },
  {
   "metadata": {
    "ExecuteTime": {
     "end_time": "2025-09-26T13:19:43.842109Z",
     "start_time": "2025-09-26T13:19:43.829165Z"
    }
   },
   "cell_type": "code",
   "source": [
    "def sigma_CO2_f(Q_N, f_x1, f_x2, f_x3):\n",
    "    r\"\"\"\n",
    "    \\sigma(\\text{CO}_2) =\n",
    "    \\begin{cases}\n",
    "    \\frac{f_{x1}}{1 - f_{x2} \\cdot \\log_{10} Q_N} & \\text{pour } Q_N \\leq 100 \\, \\text{kW} \\\\\n",
    "    f_{x3} & \\text{pour } Q_N > 100 \\, \\text{kW}\n",
    "    \\end{cases}\n",
    "    \"\"\"\n",
    "    # pg 101 B2\n",
    "    if Q_N <= 100 * ureg.kW:\n",
    "        return f_x1 / (1 - f_x2 * math.log10(Q_N.magnitude))\n",
    "    else:\n",
    "        return f_x3\n",
    "    \n",
    "\n",
    "def eta_w(Q_N):\n",
    "    r\"\"\"\n",
    "    \\eta_w =\n",
    "    \\begin{cases}\n",
    "    85.0 + 1.0 \\cdot \\log_{10} Q_N & \\text{pour } Q_N \\leq 1000 \\,\\text{kW} \\\\\n",
    "    88.0 & \\text{pour } Q_N > 1000 \\,\\text{kW}\n",
    "    \\end{cases}\n",
    "    \"\"\"\n",
    "    # pg 101 B2\n",
    "    if Q_N <= 1000 * ureg.kW:\n",
    "        return 85.0 + 1.0 * math.log10(Q_N.magnitude)\n",
    "    else:\n",
    "        return 88.0\n",
    "\n",
    "def sigma_H2O_f(f_w, sigma_CO2):\n",
    "    r\"\"\"\n",
    "    \\sigma(H_2O) =\n",
    "    \\frac{100}{1 + \\frac{f_w}{\\sigma(CO_2)}} + 1.1\n",
    "    \"\"\"\n",
    "    # pg 99\n",
    "    return 100 / (1 + f_w / sigma_CO2) + 1.1\n",
    "\n",
    "\n",
    "def P_L_f(T_L, z, R_L):\n",
    "    r\"\"\"\n",
    "    P_L = 97000 \\cdot e^{\\frac{-g \\cdot z}{R_L \\cdot T_L }}\n",
    "    \"\"\"\n",
    "    # (12) pg 27\n",
    "    g = 9.81 * ureg.m / ureg.s**2\n",
    "    return 97000 * ureg.pascal * math.exp(-g * z / (R_L * (T_L.to('kelvin'))))\n",
    "    \n",
    "def eta_A_f(t_m):\n",
    "    r\"\"\"\n",
    "    \\eta_A = 15 \\cdot 10^{-6} + 47 \\cdot 10^{-9} \\cdot t_m - 20 \\cdot 10^{-12} \\cdot t_m^2\n",
    "    \\quad\\text{avec } t_m \\text{ en °C}\n",
    "    \"\"\"\n",
    "    # pg 100\n",
    "    if hasattr(t_m, \"to\"):\n",
    "        t_m = t_m.to(ureg.degC).magnitude\n",
    "    value = 15e-6 + 47e-9 * t_m - 20e-12 * (t_m ** 2)\n",
    "    return value * ureg.pascal * ureg.second\n",
    "\n",
    "def lambda_A_f(t_m):\n",
    "    r\"\"\"\n",
    "    \\lambda_A = 0.0223 + 0.000065 \\cdot t_m\n",
    "    \\quad\\text{avec } t_m \\text{ en °C}\n",
    "    \"\"\"\n",
    "    # B.9 pg 99\n",
    "    if hasattr(t_m, \"to\"):\n",
    "        t_m = t_m.to(ureg.degC).magnitude\n",
    "    \n",
    "    value = 0.0223 + 0.000065 * t_m\n",
    "    return value * ureg.watt / (ureg.meter * ureg.kelvin)\n",
    "\n",
    "def R_f(R_L, f_R, sigma_CO2):\n",
    "    r\"\"\"\n",
    "    R = R_L \\cdot \\left( 1 + f_R \\cdot \\sigma(CO_2) \\right)\n",
    "    \"\"\"\n",
    "    return R_L * (1 + f_R * sigma_CO2)\n",
    "\n",
    "def c_p_f(t_m, sigma_CO2, f_c0, f_c1, f_c2, f_c3):\n",
    "    r\"\"\"\n",
    "    c_p = \\frac{1011 + 0.05 \\, t_m + 0.0003 \\, t_m^2 + (f_{c0} + f_{c1} \\, t_m + f_{c2} \\, t_m^2)\\,\\sigma(CO_2)}{1 + f_{c3}\\,\\sigma(CO_2)}\n",
    "    \\quad\\text{avec } t_m \\text{ en °C}\n",
    "    \"\"\"\n",
    "    # conversion en °C si pint.Quantity\n",
    "    if hasattr(t_m, \"to\"):\n",
    "        t_m = t_m.to(ureg.degC).magnitude\n",
    "\n",
    "    numerator = 1011 + 0.05 * t_m + 0.0003 * (t_m ** 2) \\\n",
    "                + (f_c0 + f_c1 * t_m + f_c2 * (t_m ** 2)) * sigma_CO2\n",
    "    denominator = 1 + f_c3 * sigma_CO2\n",
    "\n",
    "    return (numerator / denominator) * ureg.joule / (ureg.kg * ureg.kelvin)\n",
    "\n",
    "\n",
    "def Nu_f(psi, psi_smooth, Re, Pr, D_h, L_tot):\n",
    "    r\"\"\"\n",
    "    Nu = \\left(\\frac{\\psi}{\\psi_{\\text{smooth}}}\\right)^{0.67}\n",
    "         \\cdot 0.0214 \\cdot \\left(Re^{0.8} - 100\\right) \\cdot Pr^{0.4}\n",
    "         \\cdot \\left[1 + \\left(\\frac{D_h}{L_{tot}}\\right)^{0.67}\\right]\n",
    "    \"\"\"\n",
    "    res = ((psi / psi_smooth) ** 0.67\n",
    "            * 0.0214\n",
    "            * (Re ** 0.8 - 100)\n",
    "            * (Pr ** 0.4)\n",
    "            * (1 + (D_h / L_tot) ** 0.67)\n",
    "    )\n",
    "    # Ensure dimensionless result\n",
    "    return res.magnitude\n",
    "\n",
    "\n",
    "def colebrook_psi(Re, r, D_h, tol=1e-6, max_iter=20):\n",
    "    r\"\"\"\n",
    "    \\frac{1}{\\sqrt{\\Psi}} = -2 \\cdot \\log_{10}\\!\\left(\\frac{2{,}51}{Re \\cdot \\sqrt{\\Psi}} + \\frac{r}{3{,}71 \\cdot D_h}\\right)\n",
    "    \"\"\"\n",
    "    # Ensure dimensionless inputs where required\n",
    "    Re_val = Re\n",
    "    rel_rough = (r / D_h)\n",
    "\n",
    "    # Swamee–Jain explicit approximation as initial guess (robust start)\n",
    "    # f ≈ 0.25 / [log10( (ε/3.7D) + 5.74/Re^0.9 )]^2\n",
    "    denom = rel_rough / 3.7 + 5.74 / (Re_val ** 0.9)\n",
    "    psi = 0.25 / (math.log10(denom) ** 2)\n",
    "\n",
    "    # Fixed-point iterations on 1/sqrt(psi)\n",
    "    for _ in range(max_iter):\n",
    "        rhs = -2.0 * math.log10( 2.51 / (Re_val * math.sqrt(psi)) + rel_rough / 3.71 )\n",
    "        new_psi = 1.0 / (rhs * rhs)\n",
    "        if abs(new_psi - psi) <= tol * psi:\n",
    "            psi = new_psi\n",
    "            break\n",
    "        psi = new_psi\n",
    "\n",
    "    return psi"
   ],
   "id": "d90f48f6f08909ad",
   "outputs": [],
   "execution_count": 139
  },
  {
   "metadata": {
    "ExecuteTime": {
     "end_time": "2025-09-26T13:23:39.493687Z",
     "start_time": "2025-09-26T13:23:39.418163Z"
    }
   },
   "cell_type": "code",
   "source": [
    "# Température fumée sortie foyer)\n",
    "# Pg 20\n",
    "# la valeur doit être connue, ou en alternative il faut prendre les resultats des formules de l'annexe B\n",
    "T_e = Q_(300, 'degC')\n",
    "\n",
    "\n",
    "# Diamètre cheminée/appareil à combustion\n",
    "D_h = 200 * ureg.mm\n",
    "\n",
    "# Longueur du conduit de raccordement\n",
    "L_v = 0.2 * ureg.m\n",
    "\n",
    "# Longueur du conduit de fumée\n",
    "L = 7.4 * ureg.m\n",
    "\n",
    "# Débit massique (fourni)\n",
    "dm = 0.01 * ureg.kg / ureg.s  # kg/s\n",
    "\n",
    "# Débit massique calculé\n",
    "# Pg 99\n",
    "# Je divise par 1000 pour réobtenir le résultat en kg/s\n",
    "m_prime_calc = [0.019646085, 0.084213628]  # kg/s\n",
    "\n",
    "# Circonférence intérieure du conduit de fumée\n",
    "U = 3.1416 * D_h  # m\n",
    "\n",
    "# Section cheminée/appareil à combustion\n",
    "A = 3.1416 * (D_h / 2) ** 2  # m^2\n",
    "show_value(A)\n",
    "\n",
    "# Surface totale raccordement\n",
    "A_v = U * L_v  # m^2\n",
    "\n",
    "# Surface totale conduit de fumée\n",
    "A_t = U * L  # m^2\n",
    "show_value(A_t)\n",
    "\n",
    "\n",
    "# Coefficient de calcul de la teneur en vapeur d'eau des fumées\n",
    "# Annexe B3, valeurs pour gaz et tirage forcé\n",
    "f_w = 56\n",
    "#[56, 57]  # %\n",
    "\n",
    "f_m1 = [3.72, 3.75]\n",
    "f_m2 = [0.053, 0.054]\n",
    "\n",
    "# Puissance thermique nominale\n",
    "Q_F = 48 * ureg.kW \n",
    "# 48 - 195\n",
    "\n",
    "# Annexe B3\n",
    "f_x1 = 8.6\n",
    "f_x2 = 0.078\n",
    "f_x3 = 10.2\n",
    "\n",
    "# Puissance utile nominale\n",
    "Q_N = Q_F * 0.85\n",
    "\n",
    "# Coefficient de calcul de la teneur en CO2 des fumées\n",
    "sigma_CO2 = sigma_CO2_f(Q_N=Q_N, f_x1=f_x1, f_x2=f_x2, f_x3=f_x3)    \n",
    "display(Math(sigma_CO2_f.__doc__))\n",
    "show_value(sigma_CO2)\n",
    "\n",
    "# rendement de l'appareil à combustion (%)\n",
    "eta = eta_w(Q_N=Q_N)\n",
    "display(Math(eta_w.__doc__))\n",
    "show_value(eta)\n",
    "\n",
    "# Teneur en vapeur d'eau des fumées (%)\n",
    "sigma_H2O = sigma_H2O_f(f_w=f_w, sigma_CO2=sigma_CO2)\n",
    "display(Math(sigma_H2O_f.__doc__))\n",
    "\n",
    "\n",
    "# Température air ambiant à la sortie du conduit de fumée\n",
    "# 5.7.1.3 pg 25, 0 °C (sans condensation)\n",
    "T_uo = Q_(0, 'degC')\n",
    "# ou -15 °C (avec condensation)\n",
    "# T_uo = Q_(-15, 'degC') \n",
    "\n",
    "# Température air ambiant dans la salle des chaudières\n",
    "# 15 °C\n",
    "T_ub = Q_(15, 'degC')\n",
    "\n",
    "# Température air ambiant dans les zones chauffées\n",
    "# 20 °C\n",
    "T_uh = Q_(20, 'degC')\n",
    "\n",
    "# Température air ambiant extérieure bâtiment\n",
    "# égale à T_uo\n",
    "T_ul = T_uo\n",
    "\n",
    "# Température air ambiant non chauffées intérieur du bâtiment\n",
    "# 0 °C\n",
    "T_uu = Q_(0, 'degC')\n",
    "\n",
    "# Température pour calcul d'exigeance de température de fumée\n",
    "\n",
    "# raccord, on va dire 15 °C\n",
    "T_uv = T_ub\n",
    "\n",
    "# conduit de fumée, etant donné que la partie de cheminée à l'extérieur est < 1/4 de la longueur totale, on peut prendre 15 °C (Note 1 pg 26)\n",
    "T_ut = Q_(15, 'degC')\n",
    "\n",
    "# Hauteur au dessus du niveau de la mer\n",
    "z = 10 * ureg.m\n",
    "\n",
    "# Température de l'air extérieur\n",
    "T_L = Q_(-15, 'degC')\n",
    "# Prendre +15 °C pour tirage minimal ou pressio positive maximale ou niveau de l'admisson des fumées dans le conduits\n",
    "\n",
    "# Constant de gaz de l'air\n",
    "R_L = 288 * ureg.joule / (ureg.kg * ureg.kelvin)\n",
    "\n",
    "\n",
    "# Pression de l'air extérieur\n",
    "p_L = P_L_f(T_L=T_L, z=z, R_L=R_L)\n",
    "display(Math(P_L_f.__doc__))\n",
    "show_value(P_L.to('pascal'))\n",
    "\n",
    "\n",
    "#################################Ss\n",
    "# VALEUR PROVISOIRS CALCULS \n",
    "##################################\n",
    "\n",
    "\n",
    "\n",
    "# Température moyenne des fumées\n",
    "T_m = Q_(170, 'degC')\n",
    "\n",
    "###################################\n",
    "\n",
    "# Viscosité dynamique des fumées\n",
    "eta_A = eta_A_f(t_m=T_m)\n",
    "display(Math(eta_A_f.__doc__))\n",
    "show_value(eta_A, 'eta_A')\n",
    "\n",
    "# Coefficient de conductivité thermique des fumées\n",
    "lambda_A = lambda_A_f(t_m=T_m)\n",
    "display(Math(lambda_A_f.__doc__))\n",
    "show_value(lambda_A)\n",
    "\n",
    "# coefficient de calcul de la constante des gaz des fumÈes, en 1/%\n",
    "# pg 96\n",
    "f_R = 0.0033\n",
    "# ou 0.0032\n",
    "\n",
    "R = R_f(f_R=f_R, R_L=R_L, sigma_CO2=sigma_CO2)\n",
    "show_value(R.to('joule/(kg*kelvin)'))\n",
    "\n",
    "\n",
    "# Densité moyenne des fumées\n",
    "rho_m = p_L / (R * T_m.to('kelvin'))\n",
    "show_value(rho_m.to('kg/m^3'))\n",
    "\n",
    "\n",
    "# Vitesse moyenne des fumées\n",
    "w_m = dm / (rho_m * A)\n",
    "show_value(w_m.to('m/s'))\n",
    "\n",
    "# Nombre de Reynolds\n",
    "# Cette formule est équivalente à Re = (rho_m * w_m * D_h) / eta_A\n",
    "Re = (dm * D_h) / (A * eta_A)\n",
    "# si < 2300 alors Re = 2300\n",
    "Re = max(Re, 2300)\n",
    "show_value(Re, 'Re')\n",
    "\n",
    "\n",
    "f_c0 = 23 #23.5\n",
    "f_c1 = 0.015\n",
    "f_c2 = -0.000007\n",
    "f_c3 = 0.0142 #0.0144\n",
    "\n",
    "# Capacité calorifique specifique des fumées (pg 99)\n",
    "c_p = c_p_f(t_m=T_m, sigma_CO2=sigma_CO2, f_c0=f_c0, f_c1=f_c1, f_c2=f_c2, f_c3=f_c3)\n",
    "display(Math(c_p_f.__doc__))\n",
    "show_value(c_p, 'c_p')\n",
    "\n",
    "# Nombre de Prandtl\n",
    "Pr = (c_p * eta_A) / lambda_A\n",
    "show_value(Pr, 'Pr')\n",
    "if Pr < 0.6 or Pr > 1.5:\n",
    "    display(Markdown(\"**Attention**: Pr n'est pas entre 0.6 et 1.5, les calculs peuvent être incorrects.\"))\n",
    "\n",
    "\n",
    "#valeur moyenne de rugosité tab. B.4 pg 102\n",
    "r = 0.001  * ureg.m\n",
    "\n",
    "# Coefficient de frottement\n",
    "psi = colebrook_psi(Re=Re, r=r, D_h=D_h)\n",
    "psi_smooth = colebrook_psi(Re=Re, r=0 * ureg.m, D_h=D_h)\n",
    "\n",
    "show_value(psi, 'psi')\n",
    "show_value(psi_smooth, 'psi_smooth')\n",
    "\n",
    "\n",
    "# Nombre de Nusselt\n",
    "Nu = Nu_f(psi=psi, psi_smooth=psi_smooth, Re=Re, Pr=Pr, D_h=D_h, L_tot=L + L_v)\n",
    "show_value(Nu, 'Nu')\n",
    "\n",
    "# Coefficient intener de transfert de chaleur par convection\n",
    "alpha_i = (Nu * lambda_A) / D_h\n",
    "show_value(alpha_i, 'alpha_i')\n",
    "\n",
    "# resistance thermique\n",
    "Res_therm = 0 / (ureg.watt / (ureg.meter**2 * ureg.kelvin))\n",
    "\n",
    "\n",
    "# Coefficient externe de transfert thermique exterieur\n",
    "alpha_a_ext = 25 * ureg.watt / (ureg.meter**2 * ureg.kelvin)\n",
    "alpha_a_int = 8 * ureg.watt / (ureg.meter**2 * ureg.kelvin)\n",
    "# on prend une interpolation \n",
    "alpha_e = 10 * ureg.watt / (ureg.meter**2 * ureg.kelvin)\n",
    "\n",
    "# Coefficient de transfert thermique température NON équilibrée\n",
    "k = 1 / (1 / alpha_i + 0.5 * (Res_therm + 1 / alpha_e))\n",
    "show_value(k, 'k')\n",
    "\n",
    "# Coefficient de transfert thermique température équilibrée\n",
    "k_b = 1 / (1 / alpha_i + Res_therm + 1 / alpha_e)\n",
    "show_value(k_b, 'k_b')\n",
    "\n",
    "# Coefficient de refroidissement température NON équilibrée\n",
    "K = (k * U * L) / (dm * c_p)\n",
    "show_value(K, 'K')\n",
    "# Coefficient de refroidissement température équilibrée\n",
    "K_b = (k_b * U * L) / (dm * c_p)\n",
    "\n",
    "T_u = Q_(15, 'degC')\n",
    "\n",
    "# Température des fumées à la sortie  équilibrée\n",
    "T_ob = T_u + (T_e - T_u) * math.exp(-K_b)\n",
    "show_value(T_ob, 'T_ob')\n",
    "\n",
    "# Température de la paroi intérieure à la sortie\n",
    "T_iob = T_ob + (T_uo - T_ob) * (k_b / alpha_i)\n",
    "show_value(T_iob, 'T_iob')\n"
   ],
   "id": "33f58d14ff28525a",
   "outputs": [
    {
     "data": {
      "text/plain": [
       "<IPython.core.display.Markdown object>"
      ],
      "text/markdown": "**Value**: 0.031 meter ** 2"
     },
     "metadata": {},
     "output_type": "display_data"
    },
    {
     "data": {
      "text/plain": [
       "<IPython.core.display.Markdown object>"
      ],
      "text/markdown": "**Value**: 4.650 meter ** 2"
     },
     "metadata": {},
     "output_type": "display_data"
    },
    {
     "data": {
      "text/plain": [
       "<IPython.core.display.Math object>"
      ],
      "text/latex": "$\\displaystyle \n    \\sigma(\\text{CO}_2) =\n    \\begin{cases}\n    \\frac{f_{x1}}{1 - f_{x2} \\cdot \\log_{10} Q_N} & \\text{pour } Q_N \\leq 100 \\, \\text{kW} \\\\\n    f_{x3} & \\text{pour } Q_N > 100 \\, \\text{kW}\n    \\end{cases}\n    $"
     },
     "metadata": {},
     "output_type": "display_data"
    },
    {
     "data": {
      "text/plain": [
       "<IPython.core.display.Markdown object>"
      ],
      "text/markdown": "**Value**: 9.835669890219357"
     },
     "metadata": {},
     "output_type": "display_data"
    },
    {
     "data": {
      "text/plain": [
       "<IPython.core.display.Math object>"
      ],
      "text/latex": "$\\displaystyle \n    \\eta_w =\n    \\begin{cases}\n    85.0 + 1.0 \\cdot \\log_{10} Q_N & \\text{pour } Q_N \\leq 1000 \\,\\text{kW} \\\\\n    88.0 & \\text{pour } Q_N > 1000 \\,\\text{kW}\n    \\end{cases}\n    $"
     },
     "metadata": {},
     "output_type": "display_data"
    },
    {
     "data": {
      "text/plain": [
       "<IPython.core.display.Markdown object>"
      ],
      "text/markdown": "**Value**: 86.61066016308988"
     },
     "metadata": {},
     "output_type": "display_data"
    },
    {
     "data": {
      "text/plain": [
       "<IPython.core.display.Math object>"
      ],
      "text/latex": "$\\displaystyle \n    \\sigma(H_2O) =\n    \\frac{100}{1 + \\frac{f_w}{\\sigma(CO_2)}} + 1.1\n    $"
     },
     "metadata": {},
     "output_type": "display_data"
    },
    {
     "data": {
      "text/plain": [
       "<IPython.core.display.Math object>"
      ],
      "text/latex": "$\\displaystyle \n    P_L = 97000 \\cdot e^{\\frac{-g \\cdot z}{R_L \\cdot T_L }}\n    $"
     },
     "metadata": {},
     "output_type": "display_data"
    },
    {
     "data": {
      "text/plain": [
       "<IPython.core.display.Markdown object>"
      ],
      "text/markdown": "**Value**: 96872.09437813991 pascal"
     },
     "metadata": {},
     "output_type": "display_data"
    },
    {
     "data": {
      "text/plain": [
       "<IPython.core.display.Math object>"
      ],
      "text/latex": "$\\displaystyle \n    \\eta_A = 15 \\cdot 10^{-6} + 47 \\cdot 10^{-9} \\cdot t_m - 20 \\cdot 10^{-12} \\cdot t_m^2\n    \\quad\\text{avec } t_m \\text{ en °C}\n    $"
     },
     "metadata": {},
     "output_type": "display_data"
    },
    {
     "data": {
      "text/plain": [
       "<IPython.core.display.Markdown object>"
      ],
      "text/markdown": "**eta_A**: 2.24e-05 kilogram / meter / second"
     },
     "metadata": {},
     "output_type": "display_data"
    },
    {
     "data": {
      "text/plain": [
       "<IPython.core.display.Math object>"
      ],
      "text/latex": "$\\displaystyle \n    \\lambda_A = 0.0223 + 0.000065 \\cdot t_m\n    \\quad\\text{avec } t_m \\text{ en °C}\n    $"
     },
     "metadata": {},
     "output_type": "display_data"
    },
    {
     "data": {
      "text/plain": [
       "<IPython.core.display.Markdown object>"
      ],
      "text/markdown": "**Value**: 0.033 kilogram * meter / kelvin / second ** 3"
     },
     "metadata": {},
     "output_type": "display_data"
    },
    {
     "data": {
      "text/plain": [
       "<IPython.core.display.Markdown object>"
      ],
      "text/markdown": "**Value**: 297.348 meter ** 2 / kelvin / second ** 2"
     },
     "metadata": {},
     "output_type": "display_data"
    },
    {
     "data": {
      "text/plain": [
       "<IPython.core.display.Markdown object>"
      ],
      "text/markdown": "**Value**: 0.735 kilogram / meter ** 3"
     },
     "metadata": {},
     "output_type": "display_data"
    },
    {
     "data": {
      "text/plain": [
       "<IPython.core.display.Markdown object>"
      ],
      "text/markdown": "**Value**: 0.433 meter / second"
     },
     "metadata": {},
     "output_type": "display_data"
    },
    {
     "data": {
      "text/plain": [
       "<IPython.core.display.Markdown object>"
      ],
      "text/markdown": "**Re**: 2840.524 dimensionless"
     },
     "metadata": {},
     "output_type": "display_data"
    },
    {
     "data": {
      "text/plain": [
       "<IPython.core.display.Math object>"
      ],
      "text/latex": "$\\displaystyle \n    c_p = \\frac{1011 + 0.05 \\, t_m + 0.0003 \\, t_m^2 + (f_{c0} + f_{c1} \\, t_m + f_{c2} \\, t_m^2)\\,\\sigma(CO_2)}{1 + f_{c3}\\,\\sigma(CO_2)}\n    \\quad\\text{avec } t_m \\text{ en °C}\n    $"
     },
     "metadata": {},
     "output_type": "display_data"
    },
    {
     "data": {
      "text/plain": [
       "<IPython.core.display.Markdown object>"
      ],
      "text/markdown": "**c_p**: 1120.926 meter ** 2 / kelvin / second ** 2"
     },
     "metadata": {},
     "output_type": "display_data"
    },
    {
     "data": {
      "text/plain": [
       "<IPython.core.display.Markdown object>"
      ],
      "text/markdown": "**Pr**: 0.753 dimensionless"
     },
     "metadata": {},
     "output_type": "display_data"
    },
    {
     "data": {
      "text/plain": [
       "<IPython.core.display.Markdown object>"
      ],
      "text/markdown": "**psi**: 0.04848343718752553"
     },
     "metadata": {},
     "output_type": "display_data"
    },
    {
     "data": {
      "text/plain": [
       "<IPython.core.display.Markdown object>"
      ],
      "text/markdown": "**psi_smooth**: 0.04425730680337486"
     },
     "metadata": {},
     "output_type": "display_data"
    },
    {
     "data": {
      "text/plain": [
       "<IPython.core.display.Markdown object>"
      ],
      "text/markdown": "**Nu**: 10.58064738441638"
     },
     "metadata": {},
     "output_type": "display_data"
    },
    {
     "data": {
      "text/plain": [
       "<IPython.core.display.Markdown object>"
      ],
      "text/markdown": "**alpha_i**: 1.764 kilogram / kelvin / second ** 3"
     },
     "metadata": {},
     "output_type": "display_data"
    },
    {
     "data": {
      "text/plain": [
       "<IPython.core.display.Markdown object>"
      ],
      "text/markdown": "**k**: 1.621 kilogram / kelvin / second ** 3"
     },
     "metadata": {},
     "output_type": "display_data"
    },
    {
     "data": {
      "text/plain": [
       "<IPython.core.display.Markdown object>"
      ],
      "text/markdown": "**k_b**: 1.500 kilogram / kelvin / second ** 3"
     },
     "metadata": {},
     "output_type": "display_data"
    },
    {
     "data": {
      "text/plain": [
       "<IPython.core.display.Markdown object>"
      ],
      "text/markdown": "**K**: 0.673 dimensionless"
     },
     "metadata": {},
     "output_type": "display_data"
    },
    {
     "data": {
      "text/plain": [
       "<IPython.core.display.Markdown object>"
      ],
      "text/markdown": "**T_ob**: 167.995 degree_Celsius"
     },
     "metadata": {},
     "output_type": "display_data"
    },
    {
     "data": {
      "text/plain": [
       "<IPython.core.display.Markdown object>"
      ],
      "text/markdown": "**T_iob**: 25.195 degree_Celsius"
     },
     "metadata": {},
     "output_type": "display_data"
    }
   ],
   "execution_count": 148
  }
 ],
 "metadata": {
  "kernelspec": {
   "display_name": "Python 3",
   "language": "python",
   "name": "python3"
  },
  "language_info": {
   "codemirror_mode": {
    "name": "ipython",
    "version": 2
   },
   "file_extension": ".py",
   "mimetype": "text/x-python",
   "name": "python",
   "nbconvert_exporter": "python",
   "pygments_lexer": "ipython2",
   "version": "2.7.6"
  }
 },
 "nbformat": 4,
 "nbformat_minor": 5
}
